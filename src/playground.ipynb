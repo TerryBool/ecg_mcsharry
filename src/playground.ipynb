{
 "cells": [
  {
   "cell_type": "markdown",
   "metadata": {},
   "source": [
    "## Imports"
   ]
  },
  {
   "cell_type": "code",
   "execution_count": 1,
   "metadata": {},
   "outputs": [],
   "source": [
    "import numpy as np\n",
    "import wfdb\n",
    "import matplotlib.pyplot as plt\n",
    "from data import Record, RecordBuilder\n",
    "from signal_generator import generate_ecg\n",
    "import os\n",
    "import ipywidgets as widgets\n",
    "from IPython.display import display, clear_output\n",
    "import scipy as sp"
   ]
  },
  {
   "cell_type": "markdown",
   "metadata": {},
   "source": [
    "## Code"
   ]
  },
  {
   "cell_type": "code",
   "execution_count": null,
   "metadata": {},
   "outputs": [],
   "source": [
    "record = RecordBuilder.fetch_record(1, 1)\n",
    "plt.figure(figsize=(20,6))\n",
    "plt.plot(np.arange(record.clean_signal.shape[0]) / record.sampling_frequency, record.clean_signal)\n",
    "plt.show()"
   ]
  },
  {
   "cell_type": "code",
   "execution_count": null,
   "metadata": {},
   "outputs": [],
   "source": [
    "times, signal = record.get_segment(5.0, 10.0)\n",
    "plt.figure(figsize=(20,6))\n",
    "plt.plot(times, signal)\n",
    "plt.show()"
   ]
  },
  {
   "cell_type": "code",
   "execution_count": null,
   "metadata": {},
   "outputs": [],
   "source": [
    "times, signal = generate_ecg()\n",
    "plt.figure(figsize=(20,6))\n",
    "plt.plot(times[19000:], signal[19000:])\n",
    "plt.show()"
   ]
  },
  {
   "cell_type": "markdown",
   "metadata": {},
   "source": [
    "## Going through the signals"
   ]
  },
  {
   "cell_type": "code",
   "execution_count": null,
   "metadata": {},
   "outputs": [],
   "source": [
    "record = RecordBuilder.fetch_record(1, 2)\n",
    "plt.figure(figsize=(26,6))\n",
    "plt.plot(np.arange(record.clean_signal.shape[0]) / record.sampling_frequency, record.clean_signal)\n",
    "plt.show()"
   ]
  },
  {
   "cell_type": "code",
   "execution_count": 18,
   "metadata": {},
   "outputs": [
    {
     "data": {
      "application/vnd.jupyter.widget-view+json": {
       "model_id": "9ba306ac2f0d4060a588300ce70a7ed2",
       "version_major": 2,
       "version_minor": 0
      },
      "text/plain": [
       "interactive(children=(IntSlider(value=27, description='person', max=54, min=1), IntSlider(value=10, descriptio…"
      ]
     },
     "metadata": {},
     "output_type": "display_data"
    }
   ],
   "source": [
    "fig = plt.figure(figsize=(26,8))\n",
    "ax = fig.add_subplot()\n",
    "plt.close(fig)\n",
    "\n",
    "@widgets.interact(person=(1,54,1), sample=(1,20,1))\n",
    "def update_plot(person: int, sample: int):\n",
    "    clear_output()\n",
    "    record = None\n",
    "    ax.clear()\n",
    "    try: \n",
    "        record = RecordBuilder.fetch_record(person, sample)\n",
    "    except:\n",
    "        pass\n",
    "    if record is not None:\n",
    "        ax.set_title(f\"Sample {person}.{sample}\")\n",
    "        ax.plot(np.arange(record.clean_signal.shape[0]) / record.sampling_frequency, record.clean_signal)\n",
    "    else:\n",
    "        ax.set_title(\"Sample does not exist\")\n",
    "        ax.plot(np.arange(10), np.arange(10))\n",
    "    fig.canvas.draw()\n",
    "    # plt.show()\n",
    "    _=display(fig)\n",
    "\n",
    "# person_slider = widgets.IntSlider(min=1, max=54, step=1, value=1, description=\"Person\")\n",
    "# sample_slider = widgets.IntSlider(min=1, max=20, step=1, value=1, description=\"Sample\")\n",
    "# interactive = widgets.interactive(update_plot, person=person_slider, sample=sample_slider)\n",
    "\n",
    "# clear_output()\n",
    "# display(interactive)"
   ]
  },
  {
   "cell_type": "code",
   "execution_count": 46,
   "metadata": {},
   "outputs": [
    {
     "data": {
      "text/plain": [
       "<matplotlib.backends.backend_agg.FigureCanvasAgg at 0x1ac923505c0>"
      ]
     },
     "execution_count": 46,
     "metadata": {},
     "output_type": "execute_result"
    }
   ],
   "source": [
    "fig.canvas"
   ]
  },
  {
   "cell_type": "markdown",
   "metadata": {},
   "source": [
    "## Preparing dataset"
   ]
  },
  {
   "cell_type": "code",
   "execution_count": 16,
   "metadata": {},
   "outputs": [
    {
     "data": {
      "application/vnd.jupyter.widget-view+json": {
       "model_id": "6a90aa4c6e7f43e0b3ac91981e3dba48",
       "version_major": 2,
       "version_minor": 0
      },
      "text/plain": [
       "interactive(children=(IntSlider(value=1, description='Person', max=54, min=1), IntSlider(value=1, description=…"
      ]
     },
     "metadata": {},
     "output_type": "display_data"
    },
    {
     "data": {
      "text/plain": [
       "<function __main__.update_plot(person: int, sample: int, time: float, duration: float)>"
      ]
     },
     "metadata": {},
     "output_type": "display_data"
    }
   ],
   "source": [
    "fig, ax = plt.subplots(figsize=(16,6))\n",
    "plt.close()\n",
    "\n",
    "def update_plot(person: int, sample: int, time: float, duration: float):\n",
    "    clear_output()\n",
    "    record = None\n",
    "    ax.clear()\n",
    "    try: \n",
    "        record = RecordBuilder.fetch_record(person, sample)\n",
    "    except:\n",
    "        pass\n",
    "    if record is not None:\n",
    "        ax.set_title(f\"Sample {person}.{sample}\")\n",
    "        time, signal = record.get_segment(time, duration)\n",
    "        ax.plot(time, signal)\n",
    "    else:\n",
    "        ax.set_title(\"Sample does not exist\")\n",
    "        ax.plot(np.arange(10), np.arange(10))\n",
    "    # plt.show()\n",
    "    # fig.canvas.draw()\n",
    "    display(fig)\n",
    "    return None\n",
    "\n",
    "person_slider = widgets.IntSlider(min=1, max=54, step=1, value=1, description=\"Person\")\n",
    "sample_slider = widgets.IntSlider(min=1, max=20, step=1, value=1, description=\"Sample\")\n",
    "time_slider = widgets.FloatSlider(min=0.0, max=20.0, step=0.1, value=0.0, description=\"Time\")\n",
    "window_slider = widgets.FloatSlider(min=1.0, max=5.0, step=0.05, value=2.0, description=\"Duration\")\n",
    "interactive = widgets.interact(update_plot, person=person_slider, sample=sample_slider, time=time_slider, duration=window_slider)\n",
    "_=display(interactive)"
   ]
  },
  {
   "cell_type": "code",
   "execution_count": 3,
   "metadata": {},
   "outputs": [
    {
     "name": "stdout",
     "output_type": "stream",
     "text": [
      "Sample:\t\t\t 1-1\n",
      "Time window:\t\t 0.0 - 2.0\n",
      "------------------------------------------------------------------\n",
      "Signal value range:\t (-0.185, 0.625)\n",
      "Signal mean:\t\t 0.0011\n",
      "Number of peaks:\t 2\n"
     ]
    }
   ],
   "source": [
    "person_value = person_slider.value\n",
    "sample_value = sample_slider.value\n",
    "time_value = time_slider.value\n",
    "duration_value = window_slider.value\n",
    "print(f\"Sample:\\t\\t\\t {person_value}-{sample_value}\")\n",
    "print(f\"Time window:\\t\\t {time_value} - {time_value + duration_value}\")\n",
    "print(\"------------------------------------------------------------------\")\n",
    "record = RecordBuilder.fetch_record(person_value, sample_value)\n",
    "time, signal = record.get_segment(time_value, duration_value)\n",
    "peaks, info = sp.signal.find_peaks(signal, height=0.4)\n",
    "smin = np.min(signal)\n",
    "smax = np.max(signal)\n",
    "smean = np.mean(signal)\n",
    "print(f\"Signal value range:\\t ({smin}, {smax})\")\n",
    "print(f\"Signal mean:\\t\\t {smean:.4f}\")\n",
    "print(f\"Number of peaks:\\t {len(peaks)}\")"
   ]
  },
  {
   "cell_type": "code",
   "execution_count": 5,
   "metadata": {},
   "outputs": [
    {
     "data": {
      "application/vnd.jupyter.widget-view+json": {
       "model_id": "bfd304eb3ae541c8aff622f1a89a9d96",
       "version_major": 2,
       "version_minor": 0
      },
      "text/plain": [
       "interactive(children=(FloatSlider(value=60.0, description='hr', max=120.0, min=30.0, step=0.5), FloatSlider(va…"
      ]
     },
     "metadata": {},
     "output_type": "display_data"
    },
    {
     "data": {
      "text/plain": [
       "<function __main__.update_simulation(hr: float, offset: float)>"
      ]
     },
     "metadata": {},
     "output_type": "display_data"
    }
   ],
   "source": [
    "fig, axs = plt.subplots(nrows = 2, figsize=(16,6))\n",
    "plt.close(fig)\n",
    "\n",
    "offset_slider = widgets.FloatSlider(min=0.0, max=60.0, step=0.05, value=0.0)\n",
    "hr_slider = widgets.FloatSlider(min=30.0, max=120.0, step=0.5, value=60.0)\n",
    "\n",
    "def update_simulation(hr: float, offset: float):\n",
    "    clear_output()\n",
    "    sim_times, sim_sig = generate_ecg(fs = record.sampling_frequency, heart_beat=hr, scale_low=smin, scale_high=smax)\n",
    "    start = int(offset * record.sampling_frequency)\n",
    "    end = min(int((offset + duration_value)*record.sampling_frequency), len(sim_sig))\n",
    "    axs[0].clear()\n",
    "    axs[1].clear()\n",
    "    axs[0].plot(sim_times[start:end], sim_sig[start:end])\n",
    "    axs[1].plot(time, signal)\n",
    "    # plt.show()\n",
    "    fig.canvas.draw()\n",
    "    display(fig)\n",
    "    return None\n",
    "\n",
    "\n",
    "interactive = widgets.interact(update_simulation, hr=hr_slider, offset=offset_slider)\n",
    "_ = display(interactive)"
   ]
  }
 ],
 "metadata": {
  "kernelspec": {
   "display_name": ".venv",
   "language": "python",
   "name": "python3"
  },
  "language_info": {
   "codemirror_mode": {
    "name": "ipython",
    "version": 3
   },
   "file_extension": ".py",
   "mimetype": "text/x-python",
   "name": "python",
   "nbconvert_exporter": "python",
   "pygments_lexer": "ipython3",
   "version": "3.12.4"
  }
 },
 "nbformat": 4,
 "nbformat_minor": 2
}
